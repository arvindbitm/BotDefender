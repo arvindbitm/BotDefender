{
 "cells": [
  {
   "cell_type": "code",
   "execution_count": null,
   "id": "4cc5e39f",
   "metadata": {
    "scrolled": true
   },
   "outputs": [],
   "source": [
    "def isIncludable(tmpFS):\n",
    "    BG = BaggingClassifier()\n",
    "    BG = BG.fit(X_Train[tmpFS], Y_Train)\n",
    "    score = metrics.accuracy_score(Y_Test, BG.predict(X_Test[tmpFS]))\n",
    "    return score;"
   ]
  },
  {
   "cell_type": "code",
   "execution_count": null,
   "id": "60d8d7a1",
   "metadata": {},
   "outputs": [],
   "source": [
    "#***********************Proposed Feature Selection*****************\n",
    "\n",
    "FS=[]\n",
    "pSet=[]\n",
    "tmpFS=[]\n",
    "pAccuracy=0\n",
    "runCount=0\n",
    "start=time.time()\n",
    "for i in range(len(FISet)):\n",
    "    flag=0\n",
    "    try:\n",
    "        if(tmpFS.index(MISet[i])>=0):\n",
    "            pass\n",
    "    except:\n",
    "        FS.append(MISet[i])\n",
    "        tmpFS.append(MISet[i])\n",
    "        flag=1\n",
    "    \n",
    "    try:\n",
    "        if(tmpFS.index(FISet[i])>=0):\n",
    "            pass\n",
    "    except:\n",
    "        FS.append(FISet[i])\n",
    "        tmpFS.append(FISet[i])\n",
    "        flag=1\n",
    "    \n",
    "    try:\n",
    "        if(tmpFS.index(LassoSet[i])>=0):\n",
    "            pass\n",
    "    except:\n",
    "        FS.append(LassoSet[i])\n",
    "        tmpFS.append(LassoSet[i])\n",
    "        flag=1\n",
    "    try:\n",
    "        if(tmpFS.index(CorSet[i])>=0):\n",
    "            pass\n",
    "    except:\n",
    "        FS.append(CorSet[i])\n",
    "        tmpFS.append(CorSet[i])\n",
    "        flag=1\n",
    "        \n",
    "    if (flag==1):\n",
    "        runCount=runCount+1\n",
    "        accuracy=isIncludable(FS);\n",
    "        if(pAccuracy<accuracy):\n",
    "            pAccuracy=accuracy\n",
    "            pSet=FS.copy()\n",
    "        else:\n",
    "            FS=pSet.copy()\n",
    "    print(\"Loop:\",i+1, \" RunCount:\", runCount,\" FeatureLength:\", len(pSet), \" CurrentAccuracy:\",format(accuracy, '.6f'), \" pAccuracy:\", format(pAccuracy, '.6f'))\n",
    "print(pSet)\n",
    "end=time.time()\n",
    "pTime=end-start\n",
    "print('Proposed',len(pSet), \" \",pAccuracy,\" \",pTime)"
   ]
  },
  {
   "cell_type": "code",
   "execution_count": null,
   "id": "45ab72f2",
   "metadata": {},
   "outputs": [],
   "source": [
    "#***********************Forward Feature Selection*****************\n",
    "from mlxtend.feature_selection import SequentialFeatureSelector as sfs\n",
    "from sklearn.linear_model import LinearRegression\n",
    "start=time.time()\n",
    "est = LinearRegression()\n",
    "selector = sfs(est, k_features='best', forward=True, verbose=2, scoring='neg_mean_squared_error')\n",
    "selector = selector.fit(X_Train, Y_Train)\n",
    "fSet = list(selector.k_feature_names_)\n",
    "fAccuracy=isIncludable(fSet)\n",
    "end=time.time()\n",
    "fTime=end-start\n",
    "print('Forward',len(fSet), \" \",fAccuracy,\" \",fTime)"
   ]
  },
  {
   "cell_type": "code",
   "execution_count": null,
   "id": "8cd7c828",
   "metadata": {},
   "outputs": [],
   "source": [
    "#***********************Backward Feature Selection*****************\n",
    "from mlxtend.feature_selection import SequentialFeatureSelector as sfs\n",
    "from sklearn.linear_model import LinearRegression\n",
    "start=time.time()\n",
    "est = LinearRegression()\n",
    "selector = sfs(est, k_features='best', forward=False, verbose=2, scoring='neg_mean_squared_error')\n",
    "selector = selector.fit(X_Train, Y_Train)\n",
    "fSet = list(selector.k_feature_names_)\n",
    "fAccuracy=isIncludable(fSet)\n",
    "end=time.time()\n",
    "fTime=end-start\n",
    "print('Forward',len(fSet), \" \",fAccuracy,\" \",fTime)"
   ]
  }
 ],
 "metadata": {
  "kernelspec": {
   "display_name": "Python 3 (ipykernel)",
   "language": "python",
   "name": "python3"
  },
  "language_info": {
   "codemirror_mode": {
    "name": "ipython",
    "version": 3
   },
   "file_extension": ".py",
   "mimetype": "text/x-python",
   "name": "python",
   "nbconvert_exporter": "python",
   "pygments_lexer": "ipython3",
   "version": "3.9.13"
  }
 },
 "nbformat": 4,
 "nbformat_minor": 5
}
