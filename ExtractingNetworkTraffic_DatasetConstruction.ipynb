{
 "cells": [
  {
   "cell_type": "code",
   "execution_count": null,
   "id": "6d2c9838",
   "metadata": {
    "scrolled": false
   },
   "outputs": [],
   "source": [
    "def extractor(cp):\n",
    "    sport=None\n",
    "    plen=None\n",
    "    nRw={}\n",
    "    try:\n",
    "        dport=cp['IP'].dport\n",
    "        plen=cp['IP'].len\n",
    "        if plen>60 and(dport==8000):\n",
    "            try:\n",
    "                nRw['src']=cp['IP'].src\n",
    "                nRw['dst']=cp['IP'].dst\n",
    "                nRw['id']=cp['IP'].id\n",
    "                nRw['ihl']=cp['IP'].ihl\n",
    "                nRw['plen']=cp['IP'].len\n",
    "                nRw['seq']=cp['IP'].seq\n",
    "                nRw['ttl']=cp['IP'].ttl\n",
    "                nRw['ack']=cp['IP'].ack\n",
    "                nRw['window']=cp['IP'].window\n",
    "                nRw['dport']=dport\n",
    "                nRw['sport']=cp['IP'].sport\n",
    "                nRw['stime']=cp.time\n",
    "                nRw['etime']=cp.time\n",
    "                nRw['label']=1\n",
    "                nRw['pcount']=1\n",
    "                nRw['honeypot']=0\n",
    "                nRw['wronglogin']=0\n",
    "                nRw['avgpacket']=0\n",
    "                rawData = cp['Raw'].load\n",
    "                load = str(cp['Raw'].load)\n",
    "                if load.find('empadmlgn.html')>=0:\n",
    "                    print('Honeypot detected brute force attack from ',nRw['src'])\n",
    "                    nRw['label']=0\n",
    "                    nRw['honeypot']=1\n",
    "                elif load.find('login.html')>=0:                    \n",
    "                    nRw['wronglogin']=1\n",
    "            except: pass\n",
    "            collection(nRw)\n",
    "    except BaseException as err:\n",
    "        pass\n",
    "    return\n",
    "def collection(rw):\n",
    "    global npds, pcount, tot\n",
    "    if(tot%100==0):\n",
    "        print(\"Packet count: \",tot)\n",
    "    tot=tot+1\n",
    "    if((npds['src'].eq(rw['src'])).any()):\n",
    "        rwcount = len(npds[npds['src'] == rw['src']])\n",
    "        ind = npds.index[(npds['src'] == rw['src'])].tolist()\n",
    "        rw['pcount']=rwcount+1\n",
    "        rw['stime']=npds.at[ind[0],'stime']\n",
    "        timediff=round(rw['etime']-rw['stime'])\n",
    "        rw['ttime']=timediff\n",
    "        avgpacket=rwcount/timediff\n",
    "        rw['avgpacket']=avgpacket\n",
    "        if(avgpacket>=3 and rwcount>10):\n",
    "            rw['label']=0\n",
    "            #print('DDoS attack detected from ',rw['src'])\n",
    "        if rw['wronglogin']==1:\n",
    "            rw['wronglogin']=npds.at[ind[0],'wronglogin']+1\n",
    "            if rw['wronglogin']>5:\n",
    "                rw['label']=0\n",
    "        npds = npds.append(rw , ignore_index=True)\n",
    "    else:\n",
    "        npds = npds.append(rw , ignore_index=True)\n",
    "        pcount=pcount+1\n",
    "        print('npds: ',count,rw['src'])\n",
    "\n",
    "import numpy as np\n",
    "import pandas as pd\n",
    "from scapy.all import *\n",
    "pcount=0\n",
    "tot=1\n",
    "npds = pd.DataFrame(columns=['src','dst','sport','dport','id','stime','etime','pcount','plen','ihl','ttl','seq','ack','window','ttime','avgpacket','wronglogin','honeypot','label'])\n",
    "sniff(prn = extractor, store=0, count=900000)"
   ]
  },
  {
   "cell_type": "code",
   "execution_count": null,
   "id": "34c622de",
   "metadata": {
    "scrolled": true
   },
   "outputs": [],
   "source": []
  },
  {
   "cell_type": "code",
   "execution_count": null,
   "id": "5f2a9cda",
   "metadata": {},
   "outputs": [],
   "source": []
  }
 ],
 "metadata": {
  "kernelspec": {
   "display_name": "Python 3 (ipykernel)",
   "language": "python",
   "name": "python3"
  },
  "language_info": {
   "codemirror_mode": {
    "name": "ipython",
    "version": 3
   },
   "file_extension": ".py",
   "mimetype": "text/x-python",
   "name": "python",
   "nbconvert_exporter": "python",
   "pygments_lexer": "ipython3",
   "version": "3.9.13"
  }
 },
 "nbformat": 4,
 "nbformat_minor": 5
}
